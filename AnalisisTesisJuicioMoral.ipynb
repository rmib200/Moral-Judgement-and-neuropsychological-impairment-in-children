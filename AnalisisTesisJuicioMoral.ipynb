{
 "cells": [
  {
   "cell_type": "code",
   "execution_count": 4,
   "metadata": {},
   "outputs": [
    {
     "name": "stdout",
     "output_type": "stream",
     "text": [
      "C:\\Users\\Ruddy\\Downloads\n"
     ]
    }
   ],
   "source": [
    "%cd \"C:\\Users\\Ruddy\\Downloads\"\n",
    "    "
   ]
  },
  {
   "cell_type": "code",
   "execution_count": 45,
   "metadata": {
    "scrolled": true
   },
   "outputs": [],
   "source": [
    "#cerciorarse que la base de datos se encuentra en el directorio\n",
    "import pandas as pd \n",
    "\n",
    "data = pd.read_excel(\"BDAmoretti.xlsx\")"
   ]
  },
  {
   "cell_type": "code",
   "execution_count": 10,
   "metadata": {},
   "outputs": [],
   "source": [
    "from scipy import stats"
   ]
  },
  {
   "cell_type": "code",
   "execution_count": 11,
   "metadata": {},
   "outputs": [],
   "source": [
    "import numpy as np"
   ]
  },
  {
   "cell_type": "code",
   "execution_count": 41,
   "metadata": {},
   "outputs": [
    {
     "name": "stdout",
     "output_type": "stream",
     "text": [
      "    Sujeto  Curso       Sexo  \\\n",
      "0        1      3   femenino   \n",
      "1        2      3  masculino   \n",
      "2        3      3  masculino   \n",
      "3        4      3   femenino   \n",
      "4        5      3   femenino   \n",
      "5        6      3  masculino   \n",
      "6        7      3  masculino   \n",
      "7        8      3  masculino   \n",
      "8        9      3   femenino   \n",
      "9       10      3   femenino   \n",
      "10      11      3   femenino   \n",
      "11      12      3   femenino   \n",
      "12      13      3  masculino   \n",
      "13      14      3   femenino   \n",
      "14      15      3  masculino   \n",
      "15      16      3  masculino   \n",
      "16      17      3   femenino   \n",
      "17      18      3  masculino   \n",
      "18      19      2  masculino   \n",
      "19      20      2   femenino   \n",
      "21      22      2  masculino   \n",
      "22      23      2   femenino   \n",
      "23      24      2  masculino   \n",
      "24      25      2  masculino   \n",
      "25      26      2   femenino   \n",
      "\n",
      "                                 Curricula adaptativa  dia  mes   año  \\\n",
      "0                                                 NaN   20    6  2010   \n",
      "1                                                 NaN    3    3  2010   \n",
      "2                                                 NaN    4   10  2009   \n",
      "3                                                 NaN   27   10  2009   \n",
      "4                                                 NaN   13   11  2009   \n",
      "5                                                 NaN   30   10  2009   \n",
      "6                                            problems    4    6  2010   \n",
      "7                                                 NaN   13    4  2010   \n",
      "8                                                 NaN    6    1  2010   \n",
      "9                                                 NaN   13    3  2010   \n",
      "10                                                NaN    4    2  2010   \n",
      "11                                                  *    9   12  2009   \n",
      "12                                                NaN   11    1  2010   \n",
      "13                                                NaN   21    4  2010   \n",
      "14                                                NaN   25    4  2010   \n",
      "15                              problemas emocionales   10   12  2009   \n",
      "16                                                NaN   26    1  2010   \n",
      "17                                                NaN    4   12  2009   \n",
      "18  Curricula Adaptativa/adhd/emocional/problemas ...   30    6  2010   \n",
      "19                                                NaN   11    9  2010   \n",
      "21                                                NaN   26    9  2010   \n",
      "22                                                NaN   27    5  2010   \n",
      "23                                                NaN    4    7  2010   \n",
      "24                                                NaN   22    7  2010   \n",
      "25                                                NaN   31    8  2010   \n",
      "\n",
      "   Fecha Nacimiento Fecha(cambio diario)  Años   ...     Informe  Lateralidad  \\\n",
      "0        2010-06-20           2019-02-23     8   ...       listo      diestro   \n",
      "1        2010-03-03           2019-02-23     8   ...       listo      diestro   \n",
      "2        2009-10-04           2019-02-23     9   ...       listo      diestro   \n",
      "3        2009-10-27           2019-02-23     9   ...       listo      diestro   \n",
      "4        2009-11-13           2019-02-23     8   ...       listo      diestro   \n",
      "5        2009-10-30           2019-02-23     8   ...       listo        zurdo   \n",
      "6        2010-06-04           2019-02-23     8   ...       listo        zurdo   \n",
      "7        2010-04-13           2019-02-23     8   ...       listo      diestro   \n",
      "8        2010-01-06           2019-02-23     8   ...       listo        zurdo   \n",
      "9        2010-03-13           2019-02-23     8   ...       listo      diestro   \n",
      "10       2010-02-04           2019-02-23     8   ...       listo      diestro   \n",
      "11       2009-12-09           2019-02-23     8   ...       listo      diestro   \n",
      "12       2010-01-11           2019-02-23     8   ...       listo        zurdo   \n",
      "13       2010-04-21           2019-02-23     8   ...       listo      diestro   \n",
      "14       2010-04-25           2019-02-23     8   ...       listo      diestro   \n",
      "15       2009-12-10           2019-02-23     8   ...       listo      diestro   \n",
      "16       2010-01-26           2019-02-23     8   ...       listo      diestro   \n",
      "17       2009-12-04           2019-02-23     8   ...       listo      diestro   \n",
      "18       2010-06-30           2019-02-23     8   ...       listo      diestro   \n",
      "19       2010-09-11           2019-02-23     8   ...       listo      diestro   \n",
      "21       2010-09-26           2019-02-23     8   ...       listo      diestro   \n",
      "22       2010-05-27           2019-02-23     8   ...       listo      diestro   \n",
      "23       2010-07-04           2019-02-23     8   ...       listo      diestro   \n",
      "24       2010-07-22           2019-02-23     8   ...       listo      diestro   \n",
      "25       2010-08-31           2019-02-23     8   ...       listo      diestro   \n",
      "\n",
      "   Visuoespacial/Ejecutiva Identificación Memoria Atención Lenguaje  \\\n",
      "0                        2              1       1        2        2   \n",
      "1                        1              1       2        1        2   \n",
      "2                        2              1       1        2        1   \n",
      "3                        2              1       1        1        1   \n",
      "4                        1              1       2        1        1   \n",
      "5                        1              1       1        1        1   \n",
      "6                        1              1       2        1        2   \n",
      "7                        2              1       2        2        2   \n",
      "8                        2              1       1        2        2   \n",
      "9                        2              1       2        1        2   \n",
      "10                       2              1       2        2        2   \n",
      "11                       2              1       1        2        2   \n",
      "12                       1              1       1        1        2   \n",
      "13                       1              1       1        1        2   \n",
      "14                       1              2       2        2        2   \n",
      "15                       1              1       2        1        2   \n",
      "16                       2              1       2        2        2   \n",
      "17                       1              1       2        1        2   \n",
      "18                       1              1       2        2        2   \n",
      "19                       1              1       2        1        2   \n",
      "21                       1              1       1        2        2   \n",
      "22                       1              2       2        2        2   \n",
      "23                       2              1       2        1        2   \n",
      "24                       2              1       1        2        2   \n",
      "25                       2              1       1        2        2   \n",
      "\n",
      "   Abstracción Orientación  Puntaje  \n",
      "0            2           1       17  \n",
      "1            2           1       19  \n",
      "2            2           1       21  \n",
      "3            1           1       20  \n",
      "4            2           1       20  \n",
      "5            2           1       24  \n",
      "6            1           1       17  \n",
      "7            2           1       15  \n",
      "8            1           1       18  \n",
      "9            1           1       19  \n",
      "10           1           1       14  \n",
      "11           1           1       16  \n",
      "12           1           1       25  \n",
      "13           1           1       25  \n",
      "14           2           2       11  \n",
      "15           2           2       10  \n",
      "16           1           1       18  \n",
      "17           1           1       20  \n",
      "18           1           1       10  \n",
      "19           1           1       21  \n",
      "21           2           1       18  \n",
      "22           1           1       15  \n",
      "23           2           1       12  \n",
      "24           1           1       19  \n",
      "25           1           1       19  \n",
      "\n",
      "[25 rows x 31 columns]\n"
     ]
    }
   ],
   "source": [
    "#eliminando caso perdido\n",
    "data_new = data.drop([20])\n",
    "data_new = data_new.drop([\"Nombre\"], axis=1)\n",
    "print(data_new)"
   ]
  },
  {
   "cell_type": "code",
   "execution_count": 34,
   "metadata": {},
   "outputs": [
    {
     "name": "stdout",
     "output_type": "stream",
     "text": [
      "[0 0 0 0 0 1 0 0 0 0 0 0 0 0 1 0 0 0 1 0 0 0 0 0 0]\n"
     ]
    }
   ],
   "source": [
    "a = np.asarray(data_new[\"ConductaBi\"])\n",
    "print(a)"
   ]
  },
  {
   "cell_type": "code",
   "execution_count": 35,
   "metadata": {},
   "outputs": [
    {
     "name": "stdout",
     "output_type": "stream",
     "text": [
      "[17 19 21 20 20 24 17 15 18 19 14 16 25 25 11 10 18 20 10 21 18 15 12 19\n",
      " 19]\n"
     ]
    }
   ],
   "source": [
    "b = np.asarray(data_new[\"Puntaje\"])\n",
    "print(b)"
   ]
  },
  {
   "cell_type": "code",
   "execution_count": 43,
   "metadata": {},
   "outputs": [
    {
     "data": {
      "text/plain": [
       "count    26.000000\n",
       "mean     17.769231\n",
       "std       4.101782\n",
       "min      10.000000\n",
       "25%      15.250000\n",
       "50%      18.500000\n",
       "75%      20.000000\n",
       "max      25.000000\n",
       "Name: Puntaje, dtype: float64"
      ]
     },
     "execution_count": 43,
     "metadata": {},
     "output_type": "execute_result"
    }
   ],
   "source": [
    "#estadisticos descriptivos del dato obtenido por el MoCA (puntaje continuo)\n",
    "data[\"Puntaje\"].describe()"
   ]
  },
  {
   "cell_type": "code",
   "execution_count": 42,
   "metadata": {},
   "outputs": [
    {
     "data": {
      "text/plain": [
       "NormaltestResult(statistic=0.2893540970973342, pvalue=0.8653016984304851)"
      ]
     },
     "execution_count": 42,
     "metadata": {},
     "output_type": "execute_result"
    }
   ],
   "source": [
    "#test de normalidad para los puntajes del MoCA\n",
    "#valor p > 0.05, se mantiene la hip nula\n",
    "stats.normaltest(b)"
   ]
  },
  {
   "cell_type": "code",
   "execution_count": 36,
   "metadata": {},
   "outputs": [
    {
     "data": {
      "text/plain": [
       "PointbiserialrResult(correlation=-0.24533553372279743, pvalue=0.2371864986651163)"
      ]
     },
     "execution_count": 36,
     "metadata": {},
     "output_type": "execute_result"
    }
   ],
   "source": [
    "#correlacion biserial, a es una variable dicotomica, b es una variable continua dist normal\n",
    "stats.pointbiserialr(a,b)"
   ]
  },
  {
   "cell_type": "code",
   "execution_count": 37,
   "metadata": {},
   "outputs": [
    {
     "data": {
      "text/plain": [
       "(-0.24533553372279743, 0.2371864986651163)"
      ]
     },
     "execution_count": 37,
     "metadata": {},
     "output_type": "execute_result"
    }
   ],
   "source": [
    "#corr pearson\n",
    "stats.pearsonr(a,b)"
   ]
  },
  {
   "cell_type": "code",
   "execution_count": 71,
   "metadata": {},
   "outputs": [
    {
     "name": "stdout",
     "output_type": "stream",
     "text": [
      "    video\n",
      "0       1\n",
      "1       1\n",
      "2       1\n",
      "3       0\n",
      "4       0\n",
      "5       0\n",
      "6       1\n",
      "7       1\n",
      "8       0\n",
      "9       1\n",
      "10      0\n",
      "11      1\n",
      "12      0\n",
      "13      1\n",
      "14      0\n",
      "15      1\n",
      "16      0\n",
      "17      0\n",
      "18      1\n",
      "19      1\n",
      "21      0\n",
      "22      0\n",
      "23      1\n",
      "24      0\n",
      "25      0\n"
     ]
    }
   ],
   "source": [
    "#volviendo la variable de agrupación en una variable binaria 0,1\n",
    "c = pd.get_dummies(data_new[\"Grupo\"],drop_first=True)\n",
    "print(c)"
   ]
  },
  {
   "cell_type": "code",
   "execution_count": 148,
   "metadata": {},
   "outputs": [
    {
     "name": "stdout",
     "output_type": "stream",
     "text": [
      "13 12\n"
     ]
    }
   ],
   "source": [
    "#agrupando los casos en variables distintas\n",
    "sum0 = 0 #grupo sin video\n",
    "sum1 = 0 #grupo con video\n",
    "for i in c[\"video\"]:\n",
    "    if i == 1:\n",
    "        sum1 = sum1 + 1\n",
    "    else:\n",
    "        sum0 = sum0 + 1\n",
    "        \n",
    "print(sum0, sum1)\n"
   ]
  },
  {
   "cell_type": "code",
   "execution_count": 150,
   "metadata": {},
   "outputs": [
    {
     "name": "stdout",
     "output_type": "stream",
     "text": [
      "6.341068029372451,0.01179738254159043,1,[[ 7.5 17.5]\n",
      " [ 7.5 17.5]]\n"
     ]
    }
   ],
   "source": [
    "#G-test, prueba de chi-square para observaciones menores a 5\n",
    "obs = np.array([[sum1, sum0], [3, 22]]) \n",
    "chi2, p, dof, ex = stats.chi2_contingency(obs, lambda_=\"log-likelihood\") \n",
    "print(\"{},{},{},{}\".format(chi2, p, dof, ex))"
   ]
  }
 ],
 "metadata": {
  "kernelspec": {
   "display_name": "Python 3",
   "language": "python",
   "name": "python3"
  },
  "language_info": {
   "codemirror_mode": {
    "name": "ipython",
    "version": 3
   },
   "file_extension": ".py",
   "mimetype": "text/x-python",
   "name": "python",
   "nbconvert_exporter": "python",
   "pygments_lexer": "ipython3",
   "version": "3.6.5"
  }
 },
 "nbformat": 4,
 "nbformat_minor": 2
}
